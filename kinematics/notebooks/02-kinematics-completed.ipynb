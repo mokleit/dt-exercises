{
 "cells": [
  {
   "cell_type": "code",
   "execution_count": 3,
   "metadata": {},
   "outputs": [],
   "source": [
    "%matplotlib inline\n",
    "import numpy as np\n",
    "import matplotlib.pyplot as  plt"
   ]
  },
  {
   "cell_type": "markdown",
   "metadata": {},
   "source": [
    "# Kinematics"
   ]
  },
  {
   "cell_type": "markdown",
   "metadata": {},
   "source": [
    "Kinematics model studies the motion of bodies without considering forces and inertia of the robot. Having kinematics model is useful because allows us to compute the pose of the robot after applying a sequence of actions (e.g., motor commands) from a given initial pose, which is known as *forward kinematics*. The inverse problem, which is to compute the sequence of actions that will move the robot to a target pose from a given initial pose is called *inverse kinematics*. We have seen and derived the kinematics model of the Duckiebot in class, now let's see how we can actually use this model to do both forward and inverse kinematics."
   ]
  },
  {
   "cell_type": "markdown",
   "metadata": {},
   "source": [
    "# I: Forward kinematics"
   ]
  },
  {
   "cell_type": "markdown",
   "metadata": {},
   "source": [
    "Given the kinematics model of the robot, we can write a function that simulates driving. \n",
    "\n",
    "How can we compute the pose of the robot after applying an action (e.g., by setting the left and right turning rates) for 1 time step, given the pose of the robot at the current time step?\n",
    "\n",
    "Let's first consider the case when the left and right turning rates are the same. In this case, our robot will just move in a straight line and the instantaneous center of curvature (ICC) is not defined. So, what we need to do is to convert both turning velocity $v_r$ and $v_l$ into the body velocity $v_{A}$ and compute how much the robot will move if we apply this velocity for a fixed time step $dt$:\n",
    "\n",
    "$$\n",
    "\\begin{bmatrix}\n",
    "x \\\\\n",
    "y\n",
    "\\end{bmatrix} = \n",
    "\\begin{bmatrix}\n",
    "x + v_{A}\\cos(\\theta)dt \\\\\n",
    "y + v_{A}\\sin(\\theta)dt \n",
    "\\end{bmatrix},\n",
    "$$\n",
    "\n",
    "where $v_{A} = 0.5(v_r + v_l)$. Note that, if we are given the turning rates $\\psi_r$ and $\\psi_l$ of the wheels instead of turning velocities, then we need to convert them into turning velocities. We can do this via $v_{r/l} = \\psi_{r/l} 2 \\pi r$, where $r$ denotes the radius of the wheels.\n",
    "\n",
    "The second case is when the left and right turning rates are not the same. In this case, our robot will move in an arc that follows the ICC. To compute the location of the ICC, let's recall the equations that we derived in class to compute the distance from the robot to the ICC (i.e., $d$):\n",
    "\n",
    "$$\n",
    "d = L \\frac{v_r + v_l}{v_r - v_l}\n",
    "$$\n",
    "\n",
    "As illustrated in the figure below, we can compute the location of the ICC via:\n",
    "\n",
    "$$\n",
    "\\begin{bmatrix}\n",
    "ICC_x \\\\\n",
    "ICC_y\n",
    "\\end{bmatrix} = \n",
    "\\begin{bmatrix}\n",
    "x - d \\sin(\\theta) \\\\\n",
    "y + d \\cos(\\theta) \n",
    "\\end{bmatrix},\n",
    "$$\n",
    "\n",
    "<figure>\n",
    "  <div style=\"text-align:center;\">\n",
    "  <img src=\"assets/compute_icc.png\">\n",
    "  <figcaption>Illustration of the ICC. Knowing $\\theta$ and $d$ allows us to compute where the location of the ICC.</figcaption>\n",
    "  </div>\n",
    "</figure>\n",
    "\n",
    "Once we know ICC, we want to know where the robot will end up on the curvature after applying $v_r$ and $v_l$ for one time step $dt$. Since we know $\\dot{\\theta} = \\frac{0.5(v_r - v_l)}{L}$, we can compute the angular displacement of the robot after one time step (i.e., $\\theta_{d} = \\dot{\\theta}dt$), which allows us to compute the new location of the robot. In below implementation, I chose to do things in a frame centered at the ICC where the $x$-axis points towards the robot, because it allows me to easily compute the new location of the robot in this frame (note that this is NOT the only approach to implement the forward kinematics!):\n",
    "\n",
    "$$\n",
    "\\begin{bmatrix}\n",
    "x^{ICC}_{new} \\\\\n",
    "y^{ICC}_{new}\n",
    "\\end{bmatrix} = \n",
    "\\begin{bmatrix}\n",
    "d \\cos(\\theta_d) \\\\\n",
    "d \\sin(\\theta_d) \n",
    "\\end{bmatrix}\n",
    "$$\n",
    "\n",
    "Once we have $x^{ICC}_{new}$ and $y^{ICC}_{new}$, we can convert them to the global frame by multiplying the homogeneous transformation matrix of the ICC frame that we defined above with the transformation matrix from the ICC to $(x^{ICC}_{new}, y^{ICC}_{new})$.\n",
    "\n",
    "<figure>\n",
    "  <div style=\"text-align:center;\">\n",
    "  <img src=\"assets/compute_xy_new.png\">\n",
    "  <figcaption>Here, $\\theta_d$ denotes the angular displacement as a result of applying $\\dot{\\theta}$ for one time step, and the green dot represents the new location of the robot on the curvature.</figcaption>\n",
    "  </div>\n",
    "</figure>\n",
    "\n",
    "Now let's take a look at the implementation."
   ]
  },
  {
   "cell_type": "code",
   "execution_count": 4,
   "metadata": {},
   "outputs": [],
   "source": [
    "def get_next_pose(icc_pos, d, cur_theta, theta_displacement):\n",
    "    \"\"\"\n",
    "    Compute the new next position in global frame\n",
    "    Input:\n",
    "        - icc_pos: numpy array of ICC position [x,y] in global frame\n",
    "        - d: distance from robot to the center of curvature\n",
    "        - cur_theta: current yaw angle in radian (float)\n",
    "        - theta_displacement: the amount of angular displacement if we apply w for 1 time step\n",
    "    Return:\n",
    "        - next_position:\n",
    "        - next_orientation:\n",
    "    \"\"\"\n",
    "    \n",
    "    # First, let's define the ICC frame as the frame centered at the location of ICC\n",
    "    # and oriented such that its x-axis points towards the robot\n",
    "    \n",
    "    # Compute location of the point where the robot should be at (i.e., q)\n",
    "    # in the frame of ICC.\n",
    "    x_new_icc_frame = d * np.cos(theta_displacement)\n",
    "    y_new_icc_frame = d * np.sin(theta_displacement)\n",
    "    \n",
    "    # Build transformation matrix from origin to ICC\n",
    "    T_oc_angle = -(np.deg2rad(90) - cur_theta) # \n",
    "    icc_x, icc_y = icc_pos[0], icc_pos[1]\n",
    "    T_oc = np.array([\n",
    "        [np.cos(T_oc_angle), -np.sin(T_oc_angle), icc_x],\n",
    "        [np.sin(T_oc_angle), np.cos(T_oc_angle), icc_y],\n",
    "        [0, 0, 1]\n",
    "    ]) # Transformation matrix from origin to the ICC\n",
    "    \n",
    "    # Build transformation matrix from ICC to the point where the robot should be at (i.e., q)\n",
    "    T_cq = np.array([\n",
    "        [1, 0, x_new_icc_frame],\n",
    "        [0, 1, y_new_icc_frame],\n",
    "        [0, 0, 1]\n",
    "    ]) # Transformation matrix from ICC to the point where the robot should be at (i.e., q)\n",
    "    \n",
    "    # Convert the local point q to the global frame\n",
    "    T_oq = np.dot(T_oc, T_cq) # Transformation matrix from origin to q\n",
    "    \n",
    "    next_position = np.array([T_oq[0,2], T_oq[1,2]])\n",
    "    next_orientation = np.degrees(cur_theta) + np.degrees(theta_displacement)\n",
    "    return next_position, next_orientation\n",
    "\n",
    "\n",
    "def drive(cur_pos, cur_angle, left_rate, right_rate, wheel_dist, wheel_radius, dt):\n",
    "    \"\"\"\n",
    "    Input:\n",
    "        - cur_pos: numpy array of current position [x,y] in global frame\n",
    "        - cur_angle: current yaw angle in degree (float)\n",
    "        - left_rate: turning rate of the left wheel in turns/sec(float)\n",
    "        - right_rate: turning rate of the right wheel in turns/sec (float)\n",
    "        - wheel_dist: distance between left and right wheels in meters (i.e., 2L) (float)\n",
    "        - wheel_radius: radius of the wheels in meters (i.e., R) (float)\n",
    "        - dt: time step (float)\n",
    "    Return:\n",
    "        - next_position: numpy array of next position [x,y] in global frame\n",
    "        - next_orientation: next yaw angle ()\n",
    "    \"\"\"\n",
    "    \n",
    "    # Convert angle to radian and rename some variables\n",
    "    cur_theta = np.deg2rad(cur_angle)\n",
    "    l = wheel_dist\n",
    "    \n",
    "    # Convert turning rate (turns/sec) into (m/sec)\n",
    "    # Note: the amount of distance traveled by 1 wheel revolution\n",
    "    # is equal to its circumference (i.e., 2 * pi * radius)\n",
    "    Vl = left_rate * 2. * np.pi * wheel_radius\n",
    "    Vr = right_rate * 2. * np.pi * wheel_radius\n",
    "\n",
    "    # If the wheel velocities are the same, then there is no rotation\n",
    "    if Vl == Vr:\n",
    "        v = Vl = Vr\n",
    "        new_x = cur_pos[0] + dt * v * np.cos(cur_theta)\n",
    "        new_y = cur_pos[1] + dt * v * np.sin(cur_theta)\n",
    "        cur_pos = np.array([new_x, new_y])\n",
    "        cur_angle = cur_angle # does not change since we are moving straight\n",
    "        return cur_pos, cur_angle\n",
    "\n",
    "    # Compute the angular rotation (i.e., theta_dot) velocity about the ICC (center of curvature)\n",
    "    w = (Vr - Vl) / l\n",
    "    \n",
    "    # Compute the velocity (i.e., v_A)\n",
    "    v = (Vr + Vl) / 2. \n",
    "    \n",
    "    # Compute the distance from robot to the center of curvature (i.e., d)\n",
    "    d = v / w \n",
    "    \n",
    "    # Compute the amount of angular displacement if we apply w for 1 time step\n",
    "    theta_displacement = w * dt \n",
    "\n",
    "    # Compute location of ICC in global frame\n",
    "    icc_x = cur_pos[0] - d * (np.sin(cur_theta)) \n",
    "    icc_y = cur_pos[1] + d * (np.cos(cur_theta))\n",
    "    icc_pos = np.array([icc_x, icc_y])\n",
    "    \n",
    "    # Compute next position and orientation given cx, cy, d, cur_theta, and theta_displacement\n",
    "    next_position, next_orientation = get_next_pose(icc_pos, d, cur_theta, theta_displacement)\n",
    "    \n",
    "    return next_position, next_orientation"
   ]
  },
  {
   "cell_type": "code",
   "execution_count": 5,
   "metadata": {},
   "outputs": [
    {
     "data": {
      "image/png": "[encoded data removed]",
      "text/plain": [
       "<Figure size 432x288 with 1 Axes>"
      ]
     },
     "metadata": {
      "needs_background": "light"
     },
     "output_type": "display_data"
    }
   ],
   "source": [
    "# Simulate driving\n",
    "\n",
    "num_steps = 50\n",
    "cur_pos = (0,0)\n",
    "cur_angle = 0\n",
    "positions = [cur_pos]\n",
    "orientations = [cur_angle]\n",
    "dt = 0.1 # time step in seconds\n",
    "wheel_dist = 0.2 # distance between left and right wheels in meters, i.e., 2L\n",
    "wheel_radius = 0.03 # radius of the wheels in meters, i.e., R\n",
    "\n",
    "for _ in range(num_steps):\n",
    "    left_rate = 0.1 # in turns/sec\n",
    "    right_rate = 1.0 # in turns/sec\n",
    "    cur_pos, cur_angle = drive(cur_pos, cur_angle, left_rate, right_rate, wheel_dist, wheel_radius, dt)\n",
    "    positions.append(cur_pos)\n",
    "    orientations.append(cur_angle)\n",
    "\n",
    "# Plot resulting trajectory\n",
    "xs, ys = zip(*positions)\n",
    "plt.scatter(xs,ys)\n",
    "plt.show()"
   ]
  },
  {
   "cell_type": "markdown",
   "metadata": {},
   "source": [
    "# II: Simple inverse kinematics"
   ]
  },
  {
   "cell_type": "markdown",
   "metadata": {},
   "source": [
    "Now, let's do some simple inverse kinematics! Consider a Duckiebot at $x = -3$m, $y = 2$m and $\\theta = 45$ degrees. If the goal is to reach $x = 0$m, $y = 2$m and $\\theta = -45$ degrees in exactly 10 seconds (with $dt = 0.1$) by applying the same action for the duration, can we compute the wheels' left and right turning rates (in turns per second) to achieve this?\n",
    "\n",
    "Hint: since we are applying the same action for the duration, the robot will move in a circular trajectory.\n",
    "\n",
    "<figure>\n",
    "  <div style=\"text-align:center;\">\n",
    "  <img src=\"assets/inverse_kinematics_hint.png\">\n",
    "  </div>\n",
    "</figure>"
   ]
  },
  {
   "cell_type": "code",
   "execution_count": 11,
   "metadata": {},
   "outputs": [
    {
     "name": "stdout",
     "output_type": "stream",
     "text": [
      "theta_d 0.020525162884407887\n",
      "d 1.8027756377319946\n",
      "w 0.20525162884407885\n",
      "v_l 0.34949747320050706\n",
      "v_r 0.3905477989693228\n",
      "1.8541416819329306 2.071920423987585\n"
     ]
    }
   ],
   "source": [
    "start_pos = np.array([-3, 2])\n",
    "cur_angle = 45\n",
    "end_pos = np.array([0, 2])\n",
    "end_angle = -45\n",
    "wheel_dist = 0.2     \n",
    "wheel_radius = 0.03\n",
    "dt = 0.1\n",
    "num_steps = 100\n",
    "\n",
    "# One possible solution is:\n",
    "s = 3.0 # TODO\n",
    "d = np.sqrt(13)/2.0\n",
    "theta_d = np.deg2rad(2 * np.arccos(s/(2.0*d)))\n",
    "w = theta_d/dt\n",
    "v = w*d\n",
    "v_l = 0.5*(2*v - w*wheel_dist)\n",
    "v_r = 2.0*v-v_l\n",
    "left_rate = v_l/(2*np.pi*wheel_radius)\n",
    "right_rate = v_r/(2*np.pi*wheel_radius)\n",
    "\n",
    "# v_r = ((2.0*d*w) + w*wheel_dist)/2 # TODO left wheel velocity\n",
    "# v_l = v_r - w*wheel_dist  # TODO right wheel velocity\n",
    "# left_rate = v_l / (2 * np.pi * wheel_radius) # TODO in turns/sec\n",
    "# right_rate = v_r / (2 * np.pi * wheel_radius) # TODO in turns/sec\n",
    "\n",
    "print('theta_d', theta_d)\n",
    "print('d', d)\n",
    "print('w', w)\n",
    "print('v_l', v_l)\n",
    "print('v_r', v_r)\n",
    "print(left_rate, right_rate)"
   ]
  },
  {
   "cell_type": "markdown",
   "metadata": {},
   "source": [
    "correct answer: [1.8511002862997026 1.6844336196330356]"
   ]
  },
  {
   "cell_type": "code",
   "execution_count": 13,
   "metadata": {},
   "outputs": [
    {
     "data": {
      "image/png": "[encoded data removed]",
      "text/plain": [
       "<Figure size 432x288 with 1 Axes>"
      ]
     },
     "metadata": {
      "needs_background": "light"
     },
     "output_type": "display_data"
    },
    {
     "name": "stdout",
     "output_type": "stream",
     "text": [
      "[-3  4] 11306\n"
     ]
    }
   ],
   "source": [
    "# Test drive\n",
    "cur_pos = start_pos\n",
    "cur_angle = 45\n",
    "positions = [cur_pos]\n",
    "orientations = [cur_angle]\n",
    "for _ in range(num_steps):\n",
    "    cur_pos, cur_angle = drive(cur_pos, cur_angle, left_rate, right_rate, wheel_dist, wheel_radius, dt)\n",
    "    positions.append(cur_pos)\n",
    "    orientations.append(cur_angle)\n",
    "\n",
    "# Plot resulting trajectory\n",
    "xs, ys = zip(*positions)\n",
    "plt.scatter(xs,ys)\n",
    "plt.show()\n",
    "\n",
    "# Print end pose (should be [0, 2] and -45)\n",
    "print(cur_pos.astype('int'), cur_angle.astype('int'))"
   ]
  },
  {
   "cell_type": "code",
   "execution_count": null,
   "metadata": {},
   "outputs": [],
   "source": []
  }
 ],
 "metadata": {
  "kernelspec": {
   "display_name": "Python 3",
   "language": "python",
   "name": "python3"
  },
  "language_info": {
   "codemirror_mode": {
    "name": "ipython",
    "version": 3
   },
   "file_extension": ".py",
   "mimetype": "text/x-python",
   "name": "python",
   "nbconvert_exporter": "python",
   "pygments_lexer": "ipython3",
   "version": "3.8.5"
  }
 },
 "nbformat": 4,
 "nbformat_minor": 4
}
