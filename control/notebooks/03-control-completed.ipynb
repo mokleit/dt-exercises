{
 "cells": [
  {
   "cell_type": "code",
   "execution_count": 1,
   "metadata": {},
   "outputs": [],
   "source": [
    "%matplotlib inline\n",
    "import numpy as np\n",
    "import matplotlib.pyplot as  plt"
   ]
  },
  {
   "cell_type": "markdown",
   "metadata": {},
   "source": [
    "# Proportional-Integral-Derivative (PID) controller"
   ]
  },
  {
   "cell_type": "markdown",
   "metadata": {},
   "source": [
    "A controller outputs actions or control signals that can be executed by our robot to achieve a certain goal. For example, in the case of a mobile robot, the control signals can be the linear velocity $v$ and angular velocity $\\omega$ of the robot. Proportional-Integral-Derivative (PID) controller is an example of a feedback controller where we use the output of a system to measure errors or deviations from some target or reference point to alter the control signals so that the errors are minimized.\n",
    "\n",
    "Consider a Duckiebot driving in the middle of a road with a constant linear velocity. Let's say our goal is to make sure the robot stays in the middle of the lane by adjusting its angular velocity. Intuitively, whenever the robot deviates from the middle of the lane, we will adjust the angular velocity so the robot turns toward the middle of the lane. The question is: by how much?\n",
    "\n",
    "The name proportional-integral-derivative comes from the fact that the controller adjusts the control signals proportionally to the error at a particular time step $e(t)$, while also considers the integral of the error over time (i.e., the accumulation of error over time), and the derivative of the error at each time step (i.e., how the error changes over time). The control command $u(t)$ is calculated by considering the combination of these three components:\n",
    "\n",
    "$$\n",
    "u(t) = K_p \\cdot e(t) + K_i \\cdot \\int_0^t e(t) \\partial t + K_d \\cdot \\frac{\\partial e(t)}{\\partial t},\n",
    "$$\n",
    "\n",
    "where $K_p$, $K_i$, and $K_d$ denote the proportional, integral, and derivative parameters, respectively. Our job is then to adjust these parameters (e.g., via trial and error) until the performance of our controller performs reasonably well. Generally:\n",
    "\n",
    "- Increasing $K_p$ will decrease the the time it takes for the system to approach the reference point (i.e., rise time), but at the risk of overshooting. \n",
    "- Increasing $K_d$ will help to decrease this overshooting by resisting the robot from moving too quickly to reduce the error. \n",
    "- Increasing $K_i$ will help us to eliminate the steady-state error (i.e., the remaining error that we have when the system has converged).\n",
    "\n",
    "For example, we can start by only adjusting $K_p$ while keeping $K_i=0$ and $K_d=0$ until the controller is somewhat able to reach the target. We can then fix $K_p$ at this value, and start adjusting $K_d$. Once we found the best $K_d$, we then proceed to adjust $K_i$ as needed.\n",
    "\n",
    "While the above approach to tune PID controller may work in practice, there is no guarantee that our controller will be stable (e.g., our robot may oscillate or even completely diverge from the reference point). There are actually many studies have been conducted on analysing and designing the PID controller that we should be aware of and appreciate such as pole placement and Ziegler-Nichols methods that can help us to tune our PID controller. We encourage you to take a look at the literatures if you are interested!\n",
    "\n",
    "Before we look at an example, let's first modify our drive function to take linear and angular velocities as an input rather than left and right turning rates."
   ]
  },
  {
   "cell_type": "code",
   "execution_count": 2,
   "metadata": {},
   "outputs": [],
   "source": [
    "def get_next_pose(icc_pos, d, cur_theta, theta_displacement):\n",
    "    \"\"\"\n",
    "    Compute the new next position in global frame\n",
    "    Input:\n",
    "        - icc_pos: numpy array of ICC position [x,y] in global frame\n",
    "        - d: distance from robot to the center of curvature\n",
    "        - cur_theta: current yaw angle in radian (float)\n",
    "        - theta_displacement: the amount of angular displacement if we apply w for 1 time step\n",
    "    Return:\n",
    "        - next_position:\n",
    "        - next_orientation:\n",
    "    \"\"\"\n",
    "    \n",
    "    # First, let's define the ICC frame as the frame centered at the location of ICC\n",
    "    # and oriented such that its x-axis points towards the robot\n",
    "    \n",
    "    # Compute location of the point where the robot should be at (i.e., q)\n",
    "    # in the frame of ICC.\n",
    "    x_new_icc_frame = d * np.cos(theta_displacement)\n",
    "    y_new_icc_frame = d * np.sin(theta_displacement)\n",
    "    \n",
    "    # Build transformation matrix from origin to ICC\n",
    "    T_oc_angle = -(np.deg2rad(90) - cur_theta) # \n",
    "    icc_x, icc_y = icc_pos[0], icc_pos[1]\n",
    "    T_oc = np.array([\n",
    "        [np.cos(T_oc_angle), -np.sin(T_oc_angle), icc_x],\n",
    "        [np.sin(T_oc_angle), np.cos(T_oc_angle), icc_y],\n",
    "        [0, 0, 1]\n",
    "    ]) # Transformation matrix from origin to the ICC\n",
    "    \n",
    "    # Build transformation matrix from ICC to the point where the robot should be at (i.e., q)\n",
    "    T_cq = np.array([\n",
    "        [1, 0, x_new_icc_frame],\n",
    "        [0, 1, y_new_icc_frame],\n",
    "        [0, 0, 1]\n",
    "    ]) # Transformation matrix from ICC to the point where the robot should be at (i.e., q)\n",
    "    \n",
    "    # Convert the local point q to the global frame\n",
    "    T_oq = np.dot(T_oc, T_cq) # Transformation matrix from origin to q\n",
    "    \n",
    "    next_position = np.array([T_oq[0,2], T_oq[1,2]])\n",
    "    next_orientation = np.degrees(cur_theta) + np.degrees(theta_displacement)\n",
    "    return next_position, next_orientation\n",
    "\n",
    "def drive(cur_pos, cur_angle, velocity, angular_velocity, wheel_dist, wheel_radius, dt):\n",
    "    \"\"\"\n",
    "    Input:\n",
    "        - cur_pos: numpy array of current position [x,y] in global frame\n",
    "        - cur_angle: current yaw angle in degree (float)\n",
    "        - velocity: linear velocity in m/sec (float)\n",
    "        - angular_velocity: angular velocity in rad/sec (float)\n",
    "        - wheel_dist: distance between left and right wheels in meters (i.e., 2L) (float)\n",
    "        - wheel_radius: radius of the wheels in meters (i.e., R) (float)\n",
    "        - dt: time step (float)\n",
    "    Return:\n",
    "        - next_position: numpy array of next position [x,y] in global frame\n",
    "        - next_orientation: next yaw angle ()\n",
    "    \"\"\"\n",
    "    \n",
    "    # Convert angle to radian and rename some variables\n",
    "    cur_theta = np.deg2rad(cur_angle)\n",
    "    l = wheel_dist\n",
    "    v = velocity\n",
    "    w = angular_velocity\n",
    "\n",
    "    # If angular velocity is zero, then there is no rotation\n",
    "    if w == 0:\n",
    "        new_x = cur_pos[0] + dt * v * np.cos(cur_theta)\n",
    "        new_y = cur_pos[1] + dt * v * np.sin(cur_theta)\n",
    "        cur_pos = np.array([new_x, new_y])\n",
    "        cur_angle = cur_angle # does not change since we are moving straight\n",
    "        return cur_pos, cur_angle\n",
    "    \n",
    "    # Compute the distance from robot to the center of curvature (i.e., d)\n",
    "    d = v / w\n",
    "    \n",
    "    # Compute the amount of angular displacement if we apply w for 1 time step\n",
    "    theta_displacement = w * dt \n",
    "\n",
    "    # Compute location of ICC in global frame\n",
    "    icc_x = cur_pos[0] - d * (np.sin(cur_theta)) \n",
    "    icc_y = cur_pos[1] + d * (np.cos(cur_theta))\n",
    "    icc_pos = np.array([icc_x, icc_y])\n",
    "    \n",
    "    # Compute next position and orientation given cx, cy, d, cur_theta, and theta_displacement\n",
    "    next_position, next_orientation = get_next_pose(icc_pos, d, cur_theta, theta_displacement)\n",
    "    \n",
    "    return next_position, next_orientation"
   ]
  },
  {
   "cell_type": "code",
   "execution_count": 3,
   "metadata": {},
   "outputs": [
    {
     "data": {
      "image/png": "[encoded data removed]",
      "text/plain": [
       "<Figure size 432x288 with 1 Axes>"
      ]
     },
     "metadata": {
      "needs_background": "light"
     },
     "output_type": "display_data"
    }
   ],
   "source": [
    "# Simulate driving with the new drive function\n",
    "\n",
    "num_steps = 50\n",
    "cur_pos = (0,0)\n",
    "cur_angle = 0\n",
    "positions = [cur_pos]\n",
    "orientations = [cur_angle]\n",
    "dt = 0.1 # time step in seconds\n",
    "wheel_dist = 0.2 # distance between left and right wheels in meters, i.e., 2L\n",
    "wheel_radius = 0.03 # radius of the wheels in meters, i.e., R\n",
    "\n",
    "for _ in range(num_steps):\n",
    "    v = 0.5 # in turns/sec\n",
    "    w = 1.15 # in turns/sec\n",
    "    cur_pos, cur_angle = drive(cur_pos, cur_angle, v, w, wheel_dist, wheel_radius, dt)\n",
    "    positions.append(cur_pos)\n",
    "    orientations.append(cur_angle)\n",
    "\n",
    "# Plot resulting trajectory\n",
    "\n",
    "xs, ys = zip(*positions)\n",
    "plt.scatter(xs,ys)\n",
    "plt.show()"
   ]
  },
  {
   "cell_type": "markdown",
   "metadata": {},
   "source": [
    "Seems like the new drive function works as expected. Now let's implement a PID controller!"
   ]
  },
  {
   "cell_type": "markdown",
   "metadata": {},
   "source": [
    "**EXAMPLE: controlling robot from (0,0) at $0^{\\circ}$ to reach $y = 0.05$**\n",
    "\n",
    "Consider a robot at $(x,y)=(0,0)$ with $0^{\\circ}$ yaw angle. Assuming the robot is moving with a constant velocity $v = 0.1$m/s, design a PID controller for angular velocity $\\omega$ that can make the robot to reach $y = 0.05$ within 100 time steps where $dt = 0.1$.\n",
    "\n",
    "<figure>\n",
    "  <div style=\"text-align:center;\">\n",
    "  <img src=\"assets/03/pid_1.png\">\n",
    "  </div>\n",
    "</figure>"
   ]
  },
  {
   "cell_type": "code",
   "execution_count": 18,
   "metadata": {},
   "outputs": [],
   "source": [
    "cur_pos = np.array([0,0]) # initial position of the robot\n",
    "cur_angle = 0 # initial yaw angle of the robot\n",
    "dt = 0.1 # time step in seconds\n",
    "num_steps = 100 # max number of time steps\n",
    "wheel_dist = 0.2 # distance between left and right wheels in meters, i.e., 2L\n",
    "wheel_radius = 0.03 # radius of the wheels in meters, i.e., R\n",
    "\n",
    "v = 0.1 # assume velocity is constant in m/s\n",
    "yt = 0.05 # target\n",
    "\n",
    "last_e = 0 # to keep track of derivative of error term (starts at 0)\n",
    "int_e = 0 # to keep track of integral of error term (starts at 0)\n",
    "xs = [cur_pos[0]] # to store x-position at each time step\n",
    "ys = [cur_pos[1]] # to store y-position at each time step\n",
    "ws = [] # to store angular velocity at each time step\n",
    "es = [] # to store error at each time step\n",
    "\n",
    "# TODO: modify these gains\n",
    "kp = 10.0 # proportional gain\n",
    "ki = 0.0 # integral gain\n",
    "kd = 100.0 # derivative gain\n",
    "\n",
    "for i in range(num_steps):\n",
    "    # compute error (i.e., proportional term)\n",
    "    e = yt - cur_pos[1] \n",
    "    \n",
    "    # TODO: difference in error from the last time step (i.e., derivative term)\n",
    "    diff_e = e - last_e\n",
    "    \n",
    "    # TODO: accumulate error over time for the integral term (i.e., integral term)\n",
    "    int_e = int_e + e \n",
    "    \n",
    "    # compute angular velocity with PID controller\n",
    "    w = kp * e + ki * int_e + kd * diff_e \n",
    "    \n",
    "    # simulate driving\n",
    "    cur_pos, cur_angle = drive(cur_pos, cur_angle, v, w, wheel_dist, wheel_radius, dt) \n",
    "    \n",
    "    # update error from last time step\n",
    "    last_e = e.copy()\n",
    "    \n",
    "    # store trajectory, angular velocity, and error so we can plot them\n",
    "    xs.append(cur_pos[0])\n",
    "    ys.append(cur_pos[1])\n",
    "    ws.append(w)\n",
    "    es.append(e)"
   ]
  },
  {
   "cell_type": "code",
   "execution_count": 19,
   "metadata": {},
   "outputs": [
    {
     "data": {
      "image/png": "[encoded data removed]",
      "text/plain": [
       "<Figure size 432x936 with 3 Axes>"
      ]
     },
     "metadata": {
      "needs_background": "light"
     },
     "output_type": "display_data"
    }
   ],
   "source": [
    "plt.figure(figsize=(6,13))\n",
    "\n",
    "# Plot error over time\n",
    "plt.subplot(311)\n",
    "plt.plot(es)\n",
    "plt.grid('on')\n",
    "# plt.ylim(-0.025, 0.055)\n",
    "plt.xlabel('timesteps', fontsize=12)\n",
    "plt.ylabel('e(t)', fontsize=12)\n",
    "\n",
    "# Plot w over time\n",
    "plt.subplot(312)\n",
    "plt.plot(ws)\n",
    "plt.grid('on')\n",
    "# plt.ylim(-0.5, 0.5)\n",
    "plt.xlabel('timesteps', fontsize=12)\n",
    "plt.ylabel('ω(t)', fontsize=12)\n",
    "\n",
    "# Plot (x,y) position\n",
    "plt.subplot(313)\n",
    "plt.grid('on')\n",
    "plt.plot(xs, ys)\n",
    "plt.arrow(-10, yt, dx=100, dy=0, width=0.0000001, head_length=0.1, linestyle='--', color='red')\n",
    "# plt.ylim(-0.05, 0.1)\n",
    "plt.xlabel('x', fontsize=12)\n",
    "plt.ylabel('y', fontsize=12)\n",
    "\n",
    "plt.show()"
   ]
  },
  {
   "cell_type": "markdown",
   "metadata": {},
   "source": [
    "# Pure pursuit controller"
   ]
  },
  {
   "cell_type": "markdown",
   "metadata": {},
   "source": [
    "Pure pursuit controller is a geometric-based controller for path following. Given a reference path, pure pursuit controller uses a follow point (or look-ahead point) located ahead of the robot on the reference path. The idea is then to compute the steering commands that the robot needs to move towards this point (i.e., the robot should intersect the point if the steeting commands is fixed for some time). We can compute the control command that will move the robot towards the follow point as shown in class:\n",
    "\n",
    "$$\n",
    "\\omega = \\frac{2 v_r \\sin(\\alpha)}{L},\n",
    "$$\n",
    "\n",
    "where $L$ denotes the look-ahead distance (i.e., distance between the robot and the follow point), $\\alpha$ denotes the angle between the robot heading and the look-ahead line (i.e., the line that goes from the robot to the follow point), and $v_r$ denotes the linear velocity of the robot which can be constant, or scaled according to $\\alpha$. As $L$ gets larger, the controller will be more inclined to cut corners to reach the target. In contrast, if $L$ is too small, the controller can cause the vehicle to overshoot and oscilattes around the reference trajectory (we will see this concretely later in the example below).\n",
    "\n",
    "<figure>\n",
    "  <div style=\"text-align:center;\">\n",
    "  <img src=\"assets/03/pure_pursuit_illustration.png\">\n",
    "  <figcaption>Illustration of pure pursuit controller. Here, the orange and green dots illustrate the robot and the follow point (or look-ahead point), respectively.</figcaption>\n",
    "  </div>\n",
    "</figure>\n",
    "\n",
    "Since the angular velocity is sensitive to $\\alpha$ as linear velocity increases, one thing that is often useful is to scale $L$ with $v_r$. That is, we can write $L = K v_r$ where $K$ denotes a gain that we need to tune. This simplifies the computation of $\\omega$:\n",
    "\n",
    "$$\n",
    "\\omega = \\frac{\\sin(\\alpha)}{K}\n",
    "$$\n",
    "\n",
    "Note that since this is derived using only kinematics model, there are cases in the real world where this controller does not perform well (e.g., due to non-slipping assumption)."
   ]
  },
  {
   "cell_type": "markdown",
   "metadata": {},
   "source": [
    "**EXAMPLE: controlling robot from (0,0) at $135^{\\circ}$ to reach $y = 0.05$**\n",
    "\n",
    "Consider a robot at $(x,y)=(0,0)$ with $135^{\\circ}$ yaw angle. Assuming the robot is moving with a constant velocity $v = 0.1$m/s, design a pure pursuit controller for angular velocity $\\omega$ that can make the robot to reach $y = 0.05$ within 100 time steps where $dt = 0.1$.\n",
    "\n",
    "<figure>\n",
    "  <div style=\"text-align:center;\">\n",
    "  <img src=\"assets/03/pp_1.png\">\n",
    "  </div>\n",
    "</figure>"
   ]
  },
  {
   "cell_type": "code",
   "execution_count": 20,
   "metadata": {},
   "outputs": [],
   "source": [
    "def pure_pursuit(follow_point, K=0.1):\n",
    "    \"\"\"\n",
    "    Input:\n",
    "        - follow_point: numpy array of follow point [x,y] in robot frame\n",
    "        - K: controller gain\n",
    "    Return:\n",
    "        - v: linear velocity in m/s (float)\n",
    "        - w: angular velocity in rad/s (float)\n",
    "    \"\"\"\n",
    "    \n",
    "    # compute distance between robot and follow point\n",
    "    d = np.sqrt(follow_point[0] ** 2 + follow_point[1] ** 2)\n",
    "    \n",
    "    # TODO: compute sin(alpha)\n",
    "    sin_alpha = follow_point[1] / d\n",
    "    \n",
    "    v = 0.1 # we can make it constant or we can make it as a function of sin_alpha\n",
    "    \n",
    "    # TODO: compute angular velocity\n",
    "    w = sin_alpha / K\n",
    "    \n",
    "    return v, w"
   ]
  },
  {
   "cell_type": "code",
   "execution_count": 21,
   "metadata": {},
   "outputs": [],
   "source": [
    "cur_pos = np.array([0,0]) # initial position of the robot\n",
    "cur_angle = 135 # initial yaw angle of the robot\n",
    "dt = 0.1 # time step in seconds\n",
    "num_steps = 100 # max number of time steps\n",
    "wheel_dist = 0.2 # distance between left and right wheels in meters, i.e., 2L\n",
    "wheel_radius = 0.03 # radius of the wheels in meters, i.e., R\n",
    "\n",
    "v = 0.1 # assume velocity is constant in m/s\n",
    "yt = 0.05 # target\n",
    "\n",
    "xs = [cur_pos[0]] # to store x-position at each time step\n",
    "ys = [cur_pos[1]] # to store y-position at each time step\n",
    "ws = [] # to store angular velocity at each time step\n",
    "\n",
    "# Pure pursuit parameters\n",
    "K = 0.2\n",
    "follow_x_dist = 0.07 # too large -> cuts corner, too small -> oscillates\n",
    "\n",
    "for i in range(num_steps):\n",
    "    robot_x_global = cur_pos[0]\n",
    "    robot_y_global = cur_pos[1]\n",
    "    follow_x_global = robot_x_global + follow_x_dist\n",
    "    follow_y_global = yt\n",
    "    \n",
    "    T_or = np.array([\n",
    "        [np.cos(np.deg2rad(cur_angle)), -np.sin(np.deg2rad(cur_angle)), robot_x_global],\n",
    "        [np.sin(np.deg2rad(cur_angle)), np.cos(np.deg2rad(cur_angle)), robot_y_global],\n",
    "        [0, 0, 1]\n",
    "    ]) # Transformation matrix from origin to robot\n",
    "    \n",
    "    T_of = np.array([\n",
    "        [1, 0, follow_x_global],\n",
    "        [0, 1, follow_y_global],\n",
    "        [0, 0, 1]\n",
    "    ]) # Transformation matrix from origin to follow point\n",
    "    \n",
    "    T_rf = np.dot(np.linalg.inv(T_or), T_of) # Transformation matrix from robot to follow point\n",
    "    \n",
    "    follow_point_local = np.array([T_rf[0,2], T_rf[1,2]]) # follow point in robot grame\n",
    "    \n",
    "    v, w = pure_pursuit(follow_point_local, K=K)\n",
    "    \n",
    "    cur_pos, cur_angle = drive(cur_pos, cur_angle, v, w, wheel_dist, wheel_radius, dt) # simulate driving\n",
    "    \n",
    "    xs.append(cur_pos[0])\n",
    "    ys.append(cur_pos[1])\n",
    "    ws.append(w)"
   ]
  },
  {
   "cell_type": "code",
   "execution_count": 22,
   "metadata": {},
   "outputs": [
    {
     "data": {
      "image/png": "[encoded data removed]",
      "text/plain": [
       "<Figure size 432x576 with 2 Axes>"
      ]
     },
     "metadata": {
      "needs_background": "light"
     },
     "output_type": "display_data"
    }
   ],
   "source": [
    "plt.figure(figsize=(6,8))\n",
    "\n",
    "# Plot w over time\n",
    "plt.subplot(211)\n",
    "plt.plot(ws)\n",
    "plt.grid('on')\n",
    "# plt.ylim(-0.5, 0.5)\n",
    "plt.xlabel('timesteps', fontsize=12)\n",
    "plt.ylabel('ω(t)', fontsize=12)\n",
    "\n",
    "# Plot (x,y) position\n",
    "plt.subplot(212)\n",
    "plt.grid('on')\n",
    "plt.plot(xs, ys)\n",
    "plt.arrow(-10, yt, dx=100, dy=0, width=0.0000001, head_length=0.1, linestyle='--', color='red')\n",
    "# plt.ylim(-0.05, 0.1)\n",
    "plt.xlabel('x', fontsize=12)\n",
    "plt.ylabel('y', fontsize=12)\n",
    "\n",
    "plt.show()"
   ]
  },
  {
   "cell_type": "code",
   "execution_count": null,
   "metadata": {},
   "outputs": [],
   "source": []
  }
 ],
 "metadata": {
  "kernelspec": {
   "display_name": "Python 3",
   "language": "python",
   "name": "python3"
  },
  "language_info": {
   "codemirror_mode": {
    "name": "ipython",
    "version": 3
   },
   "file_extension": ".py",
   "mimetype": "text/x-python",
   "name": "python",
   "nbconvert_exporter": "python",
   "pygments_lexer": "ipython3",
   "version": "3.8.5"
  }
 },
 "nbformat": 4,
 "nbformat_minor": 4
}
